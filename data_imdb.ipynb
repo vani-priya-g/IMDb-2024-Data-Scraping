from selenium import webdriver
from selenium.webdriver.common.by import By
from selenium.webdriver.support.ui import WebDriverWait
from selenium.webdriver.common.action_chains import ActionChains
from webdriver_manager.chrome import ChromeDriverManager
import time
import pandas as pd
# Setup driver

driver = webdriver.Chrome()

# Genres you want to scrape
genres = ["Action", "documentary", "comedy","Animation","sci-fi"]  # add more if needed

# Final DataFrame to store all results
final_df = pd.DataFrame()

for genre in genres:
    url = f"https://www.imdb.com/search/title/?title_type=feature&release_date=2024-01-01,2024-12-31&genres={genre}"
    driver.get(url)
    time.sleep(5)

    def click_load_more():
        try:
            load_more_button = driver.find_element(By.XPATH, '//*[@id="__next"]/main/div[2]/div[3]/section/section/div/section/section/div[2]/div/section/div[2]/div[2]/div[2]/div/span/button/span/span')
            ActionChains(driver).move_to_element(load_more_button).perform()
            load_more_button.click()
            time.sleep(5)
            return True
        except Exception as e:
            print("No more content to load or error:", e)
            return False

    while click_load_more():
        print("Clicked 'Load More' button")

    print("✅ Finished loading all movies for", genre)
    #//*[@id="__next"]/main/div[2]/div[3]/section/section/div/section/section/div[2]/div/section/div[2]/div[2]/ul/li[1]/div/div/div/div[1]/div[2]/span/div/span
    #//*[@id="__next"]/main/div[2]/div[3]/section/section/div/section/section/div[2]/div/section/div[2]/div[2]/ul/li[1]/div/div/div
    #//*[@id="__next"]/main/div[2]/div[3]/section/section/div/section/section/div[2]/div/section/div[2]/div[2]/ul/li[1]./div/div/div/div[1]/div[2]/div[1]
    titles = []
    ratings = []
    votings = []
    durations = []

    movie_items = driver.find_elements(By.XPATH, '//*[@id="__next"]/main/div[2]/div[3]/section/section/div/section/section/div[2]/div/section/div[2]/div[2]/ul/li')

    for movie_item in movie_items:
        try:
            title = movie_item.find_element(By.XPATH, './div/div/div/div[1]/div[2]/div[1]/a/h3').text
            rating = movie_item.find_element(By.XPATH, './div/div/div/div[1]/div[2]/span/div/span/span[1]').text
            voting = movie_item.find_element(By.XPATH, './div/div/div/div[1]/div[2]/span/div/span/span[2]').text
            duration = movie_item.find_element(By.XPATH, './div/div/div/div[1]/div[2]/div[2]/span[2]').text

            titles.append(title)
            ratings.append(rating)
            votings.append(voting)
            durations.append(duration)

        except Exception as e:
            print(f"Error extracting data for a movie: {e}")
            continue

    df = pd.DataFrame({
        'Title': titles,
        'Rating': ratings,
        'Votes': votings,
        'Duration': durations,
        'Genre': genre
    })

    # Save individual genre
    # Clean up Title and Votes fields
    df['Title'] = df['Title'].str.replace(r'^\d+\.\s*', '', regex=True)
    df['Votes'] = df['Votes'].str.replace(r'[\(\)]', '', regex=True)
    df.to_csv(f"{genre}_2024_movies_am.csv", index=False)
    final_df = pd.concat([final_df, df], ignore_index=True)

# Save combined CSV
final_df.to_csv("all_genres_2024_movies_am.csv", index=False)
print("\n All genres saved to all_genres_2024_movies.csv")

driver.quit()
